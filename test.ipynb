{
 "cells": [
  {
   "cell_type": "code",
   "execution_count": 27,
   "metadata": {},
   "outputs": [],
   "source": [
    "import requests\n",
    "from dotenv import load_dotenv\n",
    "import os\n",
    "\n",
    "# Load environment variables from a .env file\n",
    "load_dotenv()\n",
    "\n",
    "access_token = os.getenv(\"access_token\")\n",
    "user_id=os.getenv(\"user_id\")"
   ]
  },
  {
   "cell_type": "code",
   "execution_count": 33,
   "metadata": {},
   "outputs": [
    {
     "name": "stdout",
     "output_type": "stream",
     "text": [
      "User ID: 8968326359886139, Username: steven_e_\n"
     ]
    }
   ],
   "source": [
    "import requests\n",
    "\n",
    "def get_user_id(access_token):\n",
    "    url = f'https://graph.instagram.com/me?fields=id,username&access_token={access_token}'\n",
    "    response = requests.get(url)\n",
    "    data = response.json()\n",
    "    \n",
    "    if 'error' in data:\n",
    "        print(f\"Error: {data['error']['message']}\")\n",
    "    else:\n",
    "        print(f\"User ID: {data['id']}, Username: {data['username']}\")\n",
    "    \n",
    "    return data['id']\n",
    "\n",
    "user_id = get_user_id(access_token)"
   ]
  },
  {
   "cell_type": "code",
   "execution_count": 34,
   "metadata": {},
   "outputs": [
    {
     "name": "stdout",
     "output_type": "stream",
     "text": [
      "https://graph.instagram.com/8968326359886139/followers\n",
      "{'error': {'message': 'Tried accessing nonexisting field (followers) on node type (User)', 'type': 'IGApiException', 'code': 100, 'fbtrace_id': 'ArzuswxQA1kvrtJN_IzlB-B'}}\n",
      "Error: Tried accessing nonexisting field (followers) on node type (User)\n",
      "Saved 0 followers to followers.csv\n"
     ]
    }
   ],
   "source": [
    "import requests\n",
    "import pandas as pd\n",
    "\n",
    "def get_followers(user_id, access_token):\n",
    "    followers = []\n",
    "    url = f'https://graph.instagram.com/{user_id}/followers'\n",
    "    \n",
    "    params = {\n",
    "        'access_token': access_token,\n",
    "        'limit': 100\n",
    "    }\n",
    "\n",
    "    print(url)\n",
    "    \n",
    "    while url:\n",
    "        response = requests.get(url, params=params)\n",
    "        data = response.json()\n",
    "        print(data)\n",
    "        \n",
    "        # Check for errors\n",
    "        if 'error' in data:\n",
    "            print(f\"Error: {data['error']['message']}\")\n",
    "            break\n",
    "        \n",
    "        # Collect follower data\n",
    "        if 'data' in data:\n",
    "            followers.extend(data['data'])\n",
    "        \n",
    "        # Check for pagination\n",
    "        url = data.get('paging', {}).get('next')\n",
    "    \n",
    "    return followers\n",
    "\n",
    "def save_followers_to_csv(followers, filename):\n",
    "    # Convert to DataFrame and save to CSV\n",
    "    df = pd.DataFrame(followers)\n",
    "    df.to_csv(filename, index=False)\n",
    "    print(f\"Saved {len(followers)} followers to {filename}\")\n",
    "\n",
    "# Main execution\n",
    "if __name__ == \"__main__\":    \n",
    "    followers = get_followers(user_id, access_token)\n",
    "    save_followers_to_csv(followers, 'followers.csv')\n"
   ]
  }
 ],
 "metadata": {
  "kernelspec": {
   "display_name": "Python 3",
   "language": "python",
   "name": "python3"
  },
  "language_info": {
   "codemirror_mode": {
    "name": "ipython",
    "version": 3
   },
   "file_extension": ".py",
   "mimetype": "text/x-python",
   "name": "python",
   "nbconvert_exporter": "python",
   "pygments_lexer": "ipython3",
   "version": "3.11.4"
  }
 },
 "nbformat": 4,
 "nbformat_minor": 2
}
